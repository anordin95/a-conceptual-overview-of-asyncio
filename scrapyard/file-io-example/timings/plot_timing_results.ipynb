{
 "cells": [
  {
   "cell_type": "code",
   "execution_count": null,
   "id": "b97b9678-f01b-44e5-b36a-88827d9fd1e1",
   "metadata": {},
   "outputs": [],
   "source": [
    "import pandas as pd\n",
    "import seaborn as sns\n",
    "\n",
    "sns.set_theme()"
   ]
  },
  {
   "cell_type": "markdown",
   "id": "c49a5c77-4917-41c2-b257-10875cb7737b",
   "metadata": {},
   "source": [
    "#### Load and format the data"
   ]
  },
  {
   "cell_type": "code",
   "execution_count": null,
   "id": "09bf3703-e36d-40d7-bb53-bd776a3cd1ce",
   "metadata": {},
   "outputs": [],
   "source": [
    "timing_results_df = pd.read_csv(\"timing_results_of_1000_runs.csv\")\n",
    "\n",
    "# Transform df to the format expected by seaborn. That is, each row is one data-point,\n",
    "# rather than how it's currently stored where each row has an async and a sync data-point.\n",
    "sync_times_df = timing_results_df[['run_idx', 'async_ran_first', 'sync_time_elapsed']]\n",
    "sync_times_df['time_elapsed'] = sync_times_df['sync_time_elapsed']\n",
    "sync_times_df['type'] = 'synchronous'\n",
    "sync_times_df = sync_times_df.drop(columns='sync_time_elapsed')\n",
    "\n",
    "async_times_df = timing_results_df[['run_idx', 'async_ran_first', 'async_time_elapsed']]\n",
    "async_times_df['time_elapsed'] = async_times_df['async_time_elapsed']\n",
    "async_times_df['type'] = 'asynchronous'\n",
    "async_times_df = async_times_df.drop(columns='async_time_elapsed')\n",
    "\n",
    "timing_results_df = pd.concat([sync_times_df, async_times_df])"
   ]
  },
  {
   "cell_type": "markdown",
   "id": "67c7d0c9-7505-411b-b333-382beae89dbf",
   "metadata": {},
   "source": [
    "#### Create the visual"
   ]
  },
  {
   "cell_type": "code",
   "execution_count": null,
   "id": "47cb1f96-206b-4617-84cc-07e62506c530",
   "metadata": {},
   "outputs": [],
   "source": [
    "facet_grid = sns.displot(data=timing_results_df, kind='hist', x='time_elapsed', hue='type', height=4, aspect=1.5)\n",
    "# There are a few outliers on the synchronous time-elapsed. Manually clip the graph for a clearer visual.\n",
    "facet_grid.ax.set_xlim(0.8, 1.5)\n",
    "facet_grid.ax.set_title(\"Histogram of time-elapsed for asynchronous vs. synchronous executions\")\n",
    "\n",
    "print()\n",
    "print(f\"The slowest & fastest asynchronous execution times were: {async_times_df['time_elapsed'].min():.2f}s and {async_times_df['time_elapsed'].max():.2f}s\")\n",
    "print(f\"The slowest & fastest synchronous execution times were: {sync_times_df['time_elapsed'].min():.2f}s and {sync_times_df['time_elapsed'].max():.2f}s\")\n",
    "print()"
   ]
  },
  {
   "cell_type": "code",
   "execution_count": null,
   "id": "ab4e3f2d-b8b8-4d79-975a-b40d62f39993",
   "metadata": {},
   "outputs": [],
   "source": []
  }
 ],
 "metadata": {
  "kernelspec": {
   "display_name": "Python 3 (ipykernel)",
   "language": "python",
   "name": "python3"
  },
  "language_info": {
   "codemirror_mode": {
    "name": "ipython",
    "version": 3
   },
   "file_extension": ".py",
   "mimetype": "text/x-python",
   "name": "python",
   "nbconvert_exporter": "python",
   "pygments_lexer": "ipython3",
   "version": "3.12.3"
  }
 },
 "nbformat": 4,
 "nbformat_minor": 5
}
